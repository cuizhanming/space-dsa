{
 "cells": [
  {
   "metadata": {},
   "cell_type": "markdown",
   "source": [
    "## 1.1 O(n): Linear search\n",
    "\n",
    "Execution time increases linearly with the size of the input data."
   ],
   "id": "fea385dee5a01e62"
  },
  {
   "metadata": {},
   "cell_type": "code",
   "source": [
    "def linear_search(arr, x):\n",
    "    for i in range(len(arr)):\n",
    "        if arr[i] == x:\n",
    "            return i\n",
    "    return -1"
   ],
   "id": "29e33bb8930c3098",
   "outputs": [],
   "execution_count": null
  },
  {
   "metadata": {},
   "cell_type": "markdown",
   "source": [
    "## 1.2 O(log n): Binary Search.\n",
    "\n",
    "Time complexity increases by one unit for each doubling of input data."
   ],
   "id": "a70046adc9e5881"
  },
  {
   "metadata": {
    "ExecuteTime": {
     "end_time": "2025-05-26T09:16:45.980394Z",
     "start_time": "2025-05-26T09:16:45.975887Z"
    }
   },
   "cell_type": "code",
   "source": [
    "def binary_search(arr, x):\n",
    "    # arr is sorted first!\n",
    "    low = 0\n",
    "    high = len(arr) - 1\n",
    "    while low <= high:\n",
    "        mid = (low + high) // 2\n",
    "        if arr[mid] == x:\n",
    "            return mid\n",
    "        if arr[mid] < x:\n",
    "            low = mid + 1\n",
    "        elif arr[mid] > x:\n",
    "            high = mid - 1\n",
    "    return -1\n",
    "\n",
    "test = [1, 2, 3, 4, 5, 6, 7, 8, 9, 10]\n",
    "print(binary_search(test, 5))"
   ],
   "id": "9ac6801183044dbd",
   "outputs": [
    {
     "name": "stdout",
     "output_type": "stream",
     "text": [
      "4\n"
     ]
    }
   ],
   "execution_count": 6
  },
  {
   "metadata": {},
   "cell_type": "markdown",
   "source": [
    "## 1.3 O(n * log n): Quick Sort\n",
    "\n",
    "Complexity grows as a combination of linear and logarithmic"
   ],
   "id": "b0fd7b7d2d4fdd11"
  },
  {
   "metadata": {
    "ExecuteTime": {
     "end_time": "2025-05-26T09:15:45.853722Z",
     "start_time": "2025-05-26T09:15:45.850152Z"
    }
   },
   "cell_type": "code",
   "source": [
    "def quick_sort(arr):\n",
    "    if len(arr) <= 1:\n",
    "        return arr\n",
    "    pivot = arr[len(arr) // 2]\n",
    "    left = [x for x in arr if x < pivot]\n",
    "    middle = [x for x in arr if x == pivot]\n",
    "    right = [x for x in arr if x > pivot]\n",
    "\n",
    "    return quick_sort(left) + middle + quick_sort(right)\n",
    "\n",
    "\n",
    "test = [1, 5, 3, 9, 6, 10]\n",
    "print(quick_sort(test))"
   ],
   "id": "9cd5110c29790200",
   "outputs": [
    {
     "name": "stdout",
     "output_type": "stream",
     "text": [
      "[1, 3, 5, 6, 9, 10]\n"
     ]
    }
   ],
   "execution_count": 4
  },
  {
   "metadata": {},
   "cell_type": "markdown",
   "source": [
    "## 1.4 O(n^2): Bubble Sort\n",
    "\n",
    "Time taken is proportional to the square of input data size"
   ],
   "id": "1ed000b701befe3a"
  },
  {
   "metadata": {
    "ExecuteTime": {
     "end_time": "2025-05-26T09:33:08.378367Z",
     "start_time": "2025-05-26T09:33:08.374785Z"
    }
   },
   "cell_type": "code",
   "source": [
    "def bubble_sort(arr):\n",
    "    n = len(arr)\n",
    "    for i in range(n):\n",
    "        for j in range(0, n - i - 1):\n",
    "            print(i, j, arr)\n",
    "            if arr[j] > arr[j+1]:\n",
    "                arr[j], arr[j+1] = arr[j+1], arr[j]\n",
    "    return arr\n",
    "\n",
    "test = [1, 5, 3, 9, 6, 10]\n",
    "print(bubble_sort(test))"
   ],
   "id": "b000ef05b0f3b0d5",
   "outputs": [
    {
     "name": "stdout",
     "output_type": "stream",
     "text": [
      "0 0 [1, 5, 3, 9, 6, 10]\n",
      "0 1 [1, 5, 3, 9, 6, 10]\n",
      "0 2 [1, 3, 5, 9, 6, 10]\n",
      "0 3 [1, 3, 5, 9, 6, 10]\n",
      "0 4 [1, 3, 5, 6, 9, 10]\n",
      "1 0 [1, 3, 5, 6, 9, 10]\n",
      "1 1 [1, 3, 5, 6, 9, 10]\n",
      "1 2 [1, 3, 5, 6, 9, 10]\n",
      "1 3 [1, 3, 5, 6, 9, 10]\n",
      "2 0 [1, 3, 5, 6, 9, 10]\n",
      "2 1 [1, 3, 5, 6, 9, 10]\n",
      "2 2 [1, 3, 5, 6, 9, 10]\n",
      "3 0 [1, 3, 5, 6, 9, 10]\n",
      "3 1 [1, 3, 5, 6, 9, 10]\n",
      "4 0 [1, 3, 5, 6, 9, 10]\n",
      "[1, 3, 5, 6, 9, 10]\n"
     ]
    }
   ],
   "execution_count": 10
  },
  {
   "metadata": {},
   "cell_type": "markdown",
   "source": [
    "## 1.5 O(2^n) Fibonacci sequence\n",
    "\n",
    "Time doubles for every new element added, e.g. generating all subsets of a given set"
   ],
   "id": "89fc02fde3e1c7d5"
  },
  {
   "metadata": {
    "ExecuteTime": {
     "end_time": "2025-05-26T09:41:49.518908Z",
     "start_time": "2025-05-26T09:41:49.515997Z"
    }
   },
   "cell_type": "code",
   "source": [
    "def fibonacci(n):\n",
    "     # 0 1 1 2 3 5 8\n",
    "    if n == 0:\n",
    "        return 0\n",
    "    elif n == 1:\n",
    "        return 1\n",
    "    else:\n",
    "        return fibonacci(n-1) + fibonacci(n-2)\n",
    "\n",
    "print(fibonacci(6))\n"
   ],
   "id": "65ee494e7cbed590",
   "outputs": [
    {
     "name": "stdout",
     "output_type": "stream",
     "text": [
      "8\n"
     ]
    }
   ],
   "execution_count": 19
  },
  {
   "metadata": {},
   "cell_type": "markdown",
   "source": [
    "## 2.1 Space O(n): Merge Sort\n",
    "\n",
    "This merge sort algorithm has a space complexity of O(n), since it creates two additional arrays (left and right) to store the left and right halves of the input during each recursive call. The memory required to store these arrays increases linearly with the size of the input."
   ],
   "id": "5030e4c97bce4c53"
  },
  {
   "metadata": {
    "ExecuteTime": {
     "end_time": "2025-05-26T10:11:35.895490Z",
     "start_time": "2025-05-26T10:11:35.890778Z"
    }
   },
   "cell_type": "code",
   "source": [
    "def merge_sort(arr):\n",
    "    if len(arr) > 1:\n",
    "        mid = len(arr) // 2\n",
    "        left = arr[:mid]\n",
    "        right = arr[mid:]\n",
    "\n",
    "        merge_sort(left)\n",
    "        merge_sort(right)\n",
    "\n",
    "        i = j = k = 0\n",
    "\n",
    "        while i < len(left) and j < len(right):\n",
    "            if left[i] < right[j]:\n",
    "                arr[k] = left[i]\n",
    "                i += 1\n",
    "            else:\n",
    "                arr[k] = right[j]\n",
    "                j += 1\n",
    "            k += 1\n",
    "\n",
    "        while i < len(left):\n",
    "            arr[k] = left[i]\n",
    "            i += 1\n",
    "            k += 1\n",
    "\n",
    "        while j < len(right):\n",
    "            arr[k] = right[j]\n",
    "            j += 1\n",
    "            k += 1\n",
    "\n",
    "test = [1, 5, 3, 9, 6, 10]\n",
    "merge_sort(test)\n",
    "print(test)"
   ],
   "id": "a34dfe699c25200",
   "outputs": [
    {
     "name": "stdout",
     "output_type": "stream",
     "text": [
      "[1, 3, 5, 6, 9, 10]\n"
     ]
    }
   ],
   "execution_count": 22
  }
 ],
 "metadata": {
  "kernelspec": {
   "display_name": "Python 3",
   "language": "python",
   "name": "python3"
  },
  "language_info": {
   "codemirror_mode": {
    "name": "ipython",
    "version": 2
   },
   "file_extension": ".py",
   "mimetype": "text/x-python",
   "name": "python",
   "nbconvert_exporter": "python",
   "pygments_lexer": "ipython2",
   "version": "2.7.6"
  }
 },
 "nbformat": 4,
 "nbformat_minor": 5
}
